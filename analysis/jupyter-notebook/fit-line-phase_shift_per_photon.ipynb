{
 "cells": [
  {
   "cell_type": "code",
   "execution_count": 36,
   "id": "69e222df",
   "metadata": {},
   "outputs": [],
   "source": [
    "raw_data = [\n",
    "    (0, -0.243, 0.01),\n",
    "    (1.69, -0.403, 0.01),\n",
    "    (3.5, -0.554, 0.01),\n",
    "    (10.2, 2.066, 0.02),\n",
    "    (16.03, -1.678, 0.024)\n",
    "]"
   ]
  },
  {
   "cell_type": "code",
   "execution_count": 37,
   "id": "f2e301c9",
   "metadata": {},
   "outputs": [],
   "source": [
    "DOCTORING = True\n"
   ]
  },
  {
   "cell_type": "code",
   "execution_count": 38,
   "id": "26f72a02",
   "metadata": {},
   "outputs": [
    {
     "data": {
      "text/plain": [
       "[(0, -0.243),\n",
       " (1.69, -0.403),\n",
       " (3.5, -0.554),\n",
       " (10.2, -1.0755926535897933),\n",
       " (16.03, -1.678)]"
      ]
     },
     "execution_count": 38,
     "metadata": {},
     "output_type": "execute_result"
    }
   ],
   "source": [
    "from math import pi\n",
    "photons, phase_shifts, u_phase_shifts = zip(*raw_data)\n",
    "phase_shifts = list(phase_shifts)\n",
    "if DOCTORING:\n",
    "    phase_shifts[3] -= pi\n",
    "doctored_data = list(zip(photons, phase_shifts))\n",
    "doctored_data"
   ]
  },
  {
   "cell_type": "code",
   "execution_count": 39,
   "id": "1610b765",
   "metadata": {},
   "outputs": [
    {
     "data": {
      "text/plain": [
       "[-0.243, -0.403, -0.554, -1.0755926535897933, -1.678]"
      ]
     },
     "execution_count": 39,
     "metadata": {},
     "output_type": "execute_result"
    }
   ],
   "source": [
    "phase_shifts"
   ]
  },
  {
   "cell_type": "markdown",
   "id": "0b87e770",
   "metadata": {},
   "source": [
    "# Do the Fit\n",
    "\n",
    "See https://www.adamsmith.haus/python/answers/how-to-plot-a-line-of-best-fit-in-python"
   ]
  },
  {
   "cell_type": "code",
   "execution_count": 40,
   "id": "a8162798",
   "metadata": {},
   "outputs": [],
   "source": [
    "import numpy as np\n",
    "from scipy.optimize import curve_fit\n",
    "from uncertainties import ufloat\n",
    "def line(x, m, b):\n",
    "    return m*x + b"
   ]
  },
  {
   "cell_type": "code",
   "execution_count": 41,
   "id": "c1459750",
   "metadata": {},
   "outputs": [
    {
     "data": {
      "text/plain": [
       "[<matplotlib.lines.Line2D at 0x14ae4cbdbe0>]"
      ]
     },
     "execution_count": 41,
     "metadata": {},
     "output_type": "execute_result"
    },
    {
     "data": {
      "image/png": "[encoded data removed]",
      "text/plain": [
       "<Figure size 432x288 with 1 Axes>"
      ]
     },
     "metadata": {
      "needs_background": "light"
     },
     "output_type": "display_data"
    }
   ],
   "source": [
    "import matplotlib.pyplot as plt\n",
    "x = np.array(photons)\n",
    "y = np.array(phase_shifts)\n",
    "u_y = np.array(u_phase_shifts)\n",
    "\n",
    "popt, pcov = curve_fit(line,x,y, p0=[0.7, 3.14])\n",
    "perr = np.sqrt(np.diag(pcov))\n",
    "m = popt[0]\n",
    "b = popt[1]\n",
    "u_m = perr[0]\n",
    "u_b = perr[1]\n",
    "\n",
    "plt.errorbar(x,y,yerr=u_y,ls='')\n",
    "plt.scatter(x,y)\n",
    "plt.plot(x, m*x + b)"
   ]
  },
  {
   "cell_type": "code",
   "execution_count": 42,
   "id": "af2fb89d",
   "metadata": {},
   "outputs": [
    {
     "name": "stdout",
     "output_type": "stream",
     "text": [
      "We see a phase shift per photon of -0.088+/-0.003 radians per photon.\n"
     ]
    }
   ],
   "source": [
    "print(f\"We see a phase shift per photon of {ufloat(m,u_m):0.3f} radians per photon.\")"
   ]
  },
  {
   "cell_type": "code",
   "execution_count": null,
   "id": "0a555968",
   "metadata": {},
   "outputs": [],
   "source": []
  },
  {
   "cell_type": "code",
   "execution_count": null,
   "id": "64fbb3f7",
   "metadata": {},
   "outputs": [],
   "source": []
  },
  {
   "cell_type": "code",
   "execution_count": null,
   "id": "5f8454f8",
   "metadata": {},
   "outputs": [],
   "source": []
  },
  {
   "cell_type": "code",
   "execution_count": null,
   "id": "f411c7df",
   "metadata": {},
   "outputs": [],
   "source": []
  }
 ],
 "metadata": {
  "kernelspec": {
   "display_name": "Python 3 (ipykernel)",
   "language": "python",
   "name": "python3"
  },
  "language_info": {
   "codemirror_mode": {
    "name": "ipython",
    "version": 3
   },
   "file_extension": ".py",
   "mimetype": "text/x-python",
   "name": "python",
   "nbconvert_exporter": "python",
   "pygments_lexer": "ipython3",
   "version": "3.8.13"
  }
 },
 "nbformat": 4,
 "nbformat_minor": 5
}
